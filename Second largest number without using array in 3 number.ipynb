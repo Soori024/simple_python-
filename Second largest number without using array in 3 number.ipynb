{
 "cells": [
  {
   "cell_type": "code",
   "execution_count": null,
   "id": "ee38592f",
   "metadata": {},
   "outputs": [],
   "source": [
    "#Second largest number without using array in 3 number\n",
    "x,y,z = map(int, input().split()) \n",
    "    \n",
    "if(x>y and x>z):\n",
    "    if((y>x and y<z) or (y<x and y>z)):\n",
    "        print(\"The second largest is:\",y)\n",
    "    \n",
    "    elif((z>x and z<y) or (z<x and z>y)):\n",
    "        print(\"The second largest is:\",z)\n",
    "\n",
    "elif(y>x and y>z):\n",
    "    if((z>x and z<y) or (z<x and z>y)):\n",
    "        print(\"The second largest is:\",z)\n",
    "    elif((x>z and x<y) or (x<z and x>y)):\n",
    "        print(\"The second largest is:\",x)\n",
    "\n",
    "elif(z>x and z>y):\n",
    "    if((y>x and y<z) or (y<x and y>z)):\n",
    "        print(\"The second largest is:\",y)\n",
    "    elif((x>z and x<y) or (x<z and x>y)):\n",
    "        print(\"The second largest is:\",x)\n",
    "else:\n",
    "    print(\"Wrong format of input\")\n"
   ]
  }
 ],
 "metadata": {
  "kernelspec": {
   "display_name": "Python 3 (ipykernel)",
   "language": "python",
   "name": "python3"
  },
  "language_info": {
   "codemirror_mode": {
    "name": "ipython",
    "version": 3
   },
   "file_extension": ".py",
   "mimetype": "text/x-python",
   "name": "python",
   "nbconvert_exporter": "python",
   "pygments_lexer": "ipython3",
   "version": "3.9.6"
  }
 },
 "nbformat": 4,
 "nbformat_minor": 5
}

{
 "cells": [
  {
   "cell_type": "code",
   "execution_count": 1,
   "id": "9f0d0f5c",
   "metadata": {},
   "outputs": [
    {
     "name": "stdout",
     "output_type": "stream",
     "text": [
      "Heyy it's my world\n"
     ]
    }
   ],
   "source": [
    "print(\"Heyy it's my world\")"
   ]
  },
  {
   "cell_type": "code",
   "execution_count": 3,
   "id": "72ecaef7",
   "metadata": {},
   "outputs": [
    {
     "name": "stdout",
     "output_type": "stream",
     "text": [
      "x is  8\n"
     ]
    }
   ],
   "source": [
    "x = 8\n",
    "print(\"x is:\",x)"
   ]
  },
  {
   "cell_type": "code",
   "execution_count": 4,
   "id": "c6200dfd",
   "metadata": {},
   "outputs": [
    {
     "data": {
      "text/plain": [
       "[8, 16, 24, 32, 40, 48, 56, 64, 72, 80]"
      ]
     },
     "execution_count": 4,
     "metadata": {},
     "output_type": "execute_result"
    }
   ],
   "source": [
    "[x * i for i in range(1, 11)]"
   ]
  },
  {
   "cell_type": "code",
   "execution_count": 5,
   "id": "0a24f7e9",
   "metadata": {},
   "outputs": [
    {
     "name": "stdout",
     "output_type": "stream",
     "text": [
      "5 Surya\n"
     ]
    }
   ],
   "source": [
    "VarInt = 5\n",
    "a=10\n",
    "b=5\n",
    "varStr = \"Surya\"\n",
    "print(VarInt, varStr)"
   ]
  },
  {
   "cell_type": "code",
   "execution_count": 7,
   "id": "f280fe0b",
   "metadata": {},
   "outputs": [
    {
     "name": "stdout",
     "output_type": "stream",
     "text": [
      "<class 'str'>\n"
     ]
    }
   ],
   "source": [
    "VarInt = 'Suresh'\n",
    "print(type(VarInt))"
   ]
  },
  {
   "cell_type": "code",
   "execution_count": 8,
   "id": "fe37b93a",
   "metadata": {},
   "outputs": [
    {
     "data": {
      "text/plain": [
       "7"
      ]
     },
     "execution_count": 8,
     "metadata": {},
     "output_type": "execute_result"
    }
   ],
   "source": [
    "15//2"
   ]
  },
  {
   "cell_type": "code",
   "execution_count": 9,
   "id": "34f5f1ef",
   "metadata": {},
   "outputs": [
    {
     "data": {
      "text/plain": [
       "0"
      ]
     },
     "execution_count": 9,
     "metadata": {},
     "output_type": "execute_result"
    }
   ],
   "source": [
    "12345 % 5"
   ]
  },
  {
   "cell_type": "code",
   "execution_count": 10,
   "id": "183bd2c5",
   "metadata": {},
   "outputs": [
    {
     "data": {
      "text/plain": [
       "1"
      ]
     },
     "execution_count": 10,
     "metadata": {},
     "output_type": "execute_result"
    }
   ],
   "source": [
    "15 % 2"
   ]
  },
  {
   "cell_type": "code",
   "execution_count": 14,
   "id": "cb610087",
   "metadata": {},
   "outputs": [
    {
     "name": "stdout",
     "output_type": "stream",
     "text": [
      "0\n",
      "7\n",
      "7\n"
     ]
    }
   ],
   "source": [
    "print(2&5)\n",
    "print(2|5)\n",
    "print(2^5)"
   ]
  },
  {
   "cell_type": "code",
   "execution_count": 17,
   "id": "bcead792",
   "metadata": {},
   "outputs": [
    {
     "name": "stdout",
     "output_type": "stream",
     "text": [
      "1 2.765 s\n",
      "1&2.77&sh\n"
     ]
    }
   ],
   "source": [
    "n,m,ch = input().split()\n",
    "\n",
    "n = int(n)\n",
    "m = float(m)\n",
    "\n",
    "print(\"%d&%.2f&%ch\"%(n,m,ch))"
   ]
  },
  {
   "cell_type": "markdown",
   "id": "a487d31c",
   "metadata": {},
   "source": []
  },
  {
   "cell_type": "code",
   "execution_count": 1,
   "id": "6ab931b3",
   "metadata": {},
   "outputs": [
    {
     "name": "stdout",
     "output_type": "stream",
     "text": [
      "[2, 3, 4, 5]\n"
     ]
    }
   ],
   "source": [
    "li = [1,2,3,4,5,6,7,8]\n",
    "print(li[1:-3])\n"
   ]
  },
  {
   "cell_type": "code",
   "execution_count": 3,
   "id": "66787952",
   "metadata": {},
   "outputs": [
    {
     "name": "stdout",
     "output_type": "stream",
     "text": [
      "[8, 5, 2]\n"
     ]
    }
   ],
   "source": [
    "print(li[::-3])"
   ]
  },
  {
   "cell_type": "code",
   "execution_count": 4,
   "id": "a1900db5",
   "metadata": {},
   "outputs": [
    {
     "name": "stdout",
     "output_type": "stream",
     "text": [
      "[8, 6, 4, 2]\n"
     ]
    }
   ],
   "source": [
    "print(li[7:0:-2])"
   ]
  },
  {
   "cell_type": "code",
   "execution_count": 35,
   "id": "9e7e4d26",
   "metadata": {},
   "outputs": [
    {
     "name": "stdout",
     "output_type": "stream",
     "text": [
      "[1, 2, 3, 4, 5, 6, [2, 4, 6, ['a', 'b', 'c'], 8]]\n"
     ]
    }
   ],
   "source": [
    "li = [1,2,3,4,5,6, [ 2, 4, 6,['a', 'b', 'c',],8] ]\n",
    "print(li)"
   ]
  },
  {
   "cell_type": "code",
   "execution_count": 12,
   "id": "2cb6330b",
   "metadata": {},
   "outputs": [
    {
     "name": "stdout",
     "output_type": "stream",
     "text": [
      "c\n"
     ]
    }
   ],
   "source": [
    "print(li[6][3][2])"
   ]
  },
  {
   "cell_type": "code",
   "execution_count": 22,
   "id": "cc9e502b",
   "metadata": {},
   "outputs": [
    {
     "name": "stdout",
     "output_type": "stream",
     "text": [
      "[1, 2, 3, 4, 5, 6, [2, 4, 6, ['a', 'b', 'c'], 8]]\n"
     ]
    }
   ],
   "source": [
    "print(li)"
   ]
  },
  {
   "cell_type": "code",
   "execution_count": 23,
   "id": "80648e5c",
   "metadata": {},
   "outputs": [],
   "source": [
    "li = li.append(\"abcd\")"
   ]
  },
  {
   "cell_type": "code",
   "execution_count": 24,
   "id": "954e7e1d",
   "metadata": {},
   "outputs": [
    {
     "name": "stdout",
     "output_type": "stream",
     "text": [
      "None\n"
     ]
    }
   ],
   "source": [
    "print(li)"
   ]
  },
  {
   "cell_type": "code",
   "execution_count": 37,
   "id": "b0c917e4",
   "metadata": {
    "scrolled": true
   },
   "outputs": [
    {
     "name": "stdout",
     "output_type": "stream",
     "text": [
      "[1, 2, 3, 4, 5, 6, [2, 4, 6, ['a', 'b', 'c'], 8], 'abcd', 'abcd']\n"
     ]
    }
   ],
   "source": [
    "li += [\"abcd\"]\n",
    "print(li)"
   ]
  },
  {
   "cell_type": "code",
   "execution_count": 38,
   "id": "92ad2ca9",
   "metadata": {},
   "outputs": [],
   "source": [
    "li.append(\"cft\")"
   ]
  },
  {
   "cell_type": "code",
   "execution_count": 39,
   "id": "df95dd40",
   "metadata": {},
   "outputs": [
    {
     "name": "stdout",
     "output_type": "stream",
     "text": [
      "[1, 2, 3, 4, 5, 6, [2, 4, 6, ['a', 'b', 'c'], 8], 'abcd', 'abcd', 'cft']\n"
     ]
    }
   ],
   "source": [
    "print(li)"
   ]
  },
  {
   "cell_type": "code",
   "execution_count": 8,
   "id": "458597f1",
   "metadata": {},
   "outputs": [
    {
     "name": "stdout",
     "output_type": "stream",
     "text": [
      "{4: 'd', 3: 'r', 5: 'b', 1: 's'}\n",
      "s\n"
     ]
    }
   ],
   "source": [
    "di = { 4:'d', 3:'r', 5:'b', 1:'s'}\n",
    "print(di)\n",
    "print(di[1])"
   ]
  },
  {
   "cell_type": "code",
   "execution_count": 14,
   "id": "6d9d3af5",
   "metadata": {},
   "outputs": [
    {
     "name": "stdout",
     "output_type": "stream",
     "text": [
      "{(2, 2): 'bb', (2, 5): ('b', 'c', 'd')}\n"
     ]
    }
   ],
   "source": [
    "di = {(2,2):'bb', (2,5): ('b','c','d')}\n",
    "print(di)"
   ]
  },
  {
   "cell_type": "code",
   "execution_count": 12,
   "id": "014aad35",
   "metadata": {},
   "outputs": [
    {
     "name": "stdout",
     "output_type": "stream",
     "text": [
      "b\n",
      "c\n"
     ]
    }
   ],
   "source": [
    "print(di[2,2][1])\n",
    "print(di[2,5][-2])\n",
    "\n"
   ]
  },
  {
   "cell_type": "code",
   "execution_count": 20,
   "id": "976c7efd",
   "metadata": {},
   "outputs": [
    {
     "name": "stdout",
     "output_type": "stream",
     "text": [
      "2\n",
      "3\n"
     ]
    }
   ],
   "source": [
    "print(len(di))\n",
    "print(di.get(3,3))"
   ]
  },
  {
   "cell_type": "code",
   "execution_count": 25,
   "id": "fb3940e5",
   "metadata": {},
   "outputs": [
    {
     "name": "stdout",
     "output_type": "stream",
     "text": [
      "[' ', 'p', 'y', 't', 'h', 'o', 'n', 's', 'u', 'r', 'e', 'S', 'h']\n",
      "{' ', 'r', 'p', 'h', 'o', 's', 'e', 'S', 't', 'u', 'n', 'y'}\n"
     ]
    }
   ],
   "source": [
    "s1 = \" pythonsureSh\"\n",
    "print(list(s1))\n",
    "print(set(s1))"
   ]
  },
  {
   "cell_type": "code",
   "execution_count": 32,
   "id": "9729a811",
   "metadata": {},
   "outputs": [
    {
     "name": "stdout",
     "output_type": "stream",
     "text": [
      "{1, 2, 3, 4, 5, 6, 7, 8, 9}\n",
      "{1, 2, 3, 4, 5, 6, 7, 8, 9}\n",
      "{3, 4}\n",
      "{3, 4}\n",
      "{1, 2, 5}\n",
      "{1, 2, 5}\n"
     ]
    }
   ],
   "source": [
    "s1 = {1,2,3,4,5}\n",
    "s2 = {6,7,8,9,4,3}\n",
    "\n",
    "print(s1.union(s2))\n",
    "print(s1|s2)\n",
    "\n",
    "print(s1.intersection(s2))\n",
    "print(s1&s2)\n",
    "\n",
    "print(s1.difference(s2))\n",
    "print(s1-s2)"
   ]
  },
  {
   "cell_type": "code",
   "execution_count": 3,
   "id": "5ae9b66e",
   "metadata": {},
   "outputs": [
    {
     "name": "stdout",
     "output_type": "stream",
     "text": [
      "a is equal b\n"
     ]
    }
   ],
   "source": [
    "a=3\n",
    "b=3\n",
    "\n",
    "if(a>b):\n",
    "    print(a)\n",
    "elif(a<b):\n",
    "    print(b)\n",
    "else:\n",
    "    print(\"a is equal b\")"
   ]
  },
  {
   "cell_type": "code",
   "execution_count": 6,
   "id": "96c7c185",
   "metadata": {},
   "outputs": [
    {
     "name": "stdout",
     "output_type": "stream",
     "text": [
      "6\n"
     ]
    }
   ],
   "source": [
    "a=2\n",
    "b=4\n",
    "c=6\n",
    "\n",
    "if(a>b and a>c):\n",
    "    print(a)\n",
    "elif(b>a and b>c):\n",
    "    print(b)\n",
    "else:\n",
    "    print(c)"
   ]
  },
  {
   "cell_type": "code",
   "execution_count": 12,
   "id": "6952624d",
   "metadata": {},
   "outputs": [
    {
     "name": "stdout",
     "output_type": "stream",
     "text": [
      "2\n",
      "4\n",
      "6\n",
      "8\n",
      "10\n"
     ]
    }
   ],
   "source": [
    "i = 10\n",
    "n = 1\n",
    "while( n <= i):\n",
    "    if(n%2==0):\n",
    "        print(n)\n",
    "    n = n+1"
   ]
  },
  {
   "cell_type": "code",
   "execution_count": 14,
   "id": "0132d891",
   "metadata": {},
   "outputs": [
    {
     "name": "stdout",
     "output_type": "stream",
     "text": [
      "2\n",
      "4\n",
      "6\n",
      "8\n",
      "10\n"
     ]
    }
   ],
   "source": [
    "i = 2\n",
    "n = 10\n",
    "while(i<=10):\n",
    "    print(i)\n",
    "    i+=2"
   ]
  },
  {
   "cell_type": "code",
   "execution_count": 15,
   "id": "40d5cf65",
   "metadata": {},
   "outputs": [
    {
     "name": "stdout",
     "output_type": "stream",
     "text": [
      "9\n",
      "8\n",
      "7\n",
      "6\n"
     ]
    }
   ],
   "source": [
    "n = 10\n",
    "\n",
    "while(n>0):\n",
    "    n = n-1\n",
    "    if(n%5==0):\n",
    "        break\n",
    "    else:\n",
    "        print(n)"
   ]
  },
  {
   "cell_type": "code",
   "execution_count": 16,
   "id": "ac1e2d9b",
   "metadata": {},
   "outputs": [
    {
     "name": "stdout",
     "output_type": "stream",
     "text": [
      "9\n",
      "8\n",
      "7\n",
      "6\n",
      "4\n",
      "3\n",
      "2\n",
      "1\n"
     ]
    }
   ],
   "source": [
    "n = 10\n",
    "\n",
    "while(n>0):\n",
    "    n = n-1\n",
    "    if(n%5==0):\n",
    "        continue\n",
    "    else:\n",
    "        print(n)"
   ]
  },
  {
   "cell_type": "code",
   "execution_count": 17,
   "id": "f1a7671d",
   "metadata": {},
   "outputs": [
    {
     "name": "stdout",
     "output_type": "stream",
     "text": [
      "1\n",
      "3\n",
      "5\n",
      "7\n",
      "9\n",
      "11\n",
      "13\n",
      "15\n",
      "17\n",
      "19\n",
      "21\n",
      "23\n",
      "25\n",
      "27\n",
      "29\n",
      "31\n",
      "33\n",
      "35\n",
      "37\n",
      "39\n",
      "41\n",
      "43\n",
      "45\n",
      "47\n",
      "49\n",
      "51\n",
      "53\n",
      "55\n",
      "57\n",
      "59\n",
      "61\n",
      "63\n",
      "65\n",
      "67\n",
      "69\n",
      "71\n",
      "73\n",
      "75\n",
      "77\n",
      "79\n",
      "81\n",
      "83\n",
      "85\n",
      "87\n",
      "89\n",
      "91\n",
      "93\n",
      "95\n",
      "97\n",
      "99\n"
     ]
    }
   ],
   "source": [
    "#while loop\n",
    "i=0\n",
    "n=100\n",
    "while(i<n):\n",
    "    if(i%2!=0):\n",
    "        print(i)\n",
    "    i+=1"
   ]
  },
  {
   "cell_type": "code",
   "execution_count": 2,
   "id": "fca5b239",
   "metadata": {},
   "outputs": [
    {
     "name": "stdout",
     "output_type": "stream",
     "text": [
      "2\n"
     ]
    }
   ],
   "source": [
    "Number = 100\n",
    "\n",
    "i = 2\n",
    "\n",
    "while(i <= Number//2):\n",
    "    if(Number % i == 0):\n",
    "        print(i)\n",
    "        break\n",
    "    i = i + 1\n",
    "    "
   ]
  },
  {
   "cell_type": "code",
   "execution_count": 14,
   "id": "276d364d",
   "metadata": {},
   "outputs": [
    {
     "name": "stdout",
     "output_type": "stream",
     "text": [
      "20\n",
      "17\n",
      "14\n",
      "11\n",
      "8\n",
      "5\n",
      "2\n"
     ]
    }
   ],
   "source": [
    "for i in range(20,0, -3):\n",
    "    print(i)"
   ]
  },
  {
   "cell_type": "code",
   "execution_count": 39,
   "id": "fd45a783",
   "metadata": {},
   "outputs": [
    {
     "name": "stdout",
     "output_type": "stream",
     "text": [
      "s us rus erus serus hserus "
     ]
    }
   ],
   "source": [
    "st = \"suresh\"\n",
    "\n",
    "for ch in range(len(st)):\n",
    "    print(st[ ch: :-1 ], end =\" \")\n"
   ]
  },
  {
   "cell_type": "code",
   "execution_count": 49,
   "id": "5745d8cc",
   "metadata": {},
   "outputs": [
    {
     "name": "stdout",
     "output_type": "stream",
     "text": [
      "$ $ $ $ $ \n",
      "$ $ $ $ \n",
      "$ $ $ \n",
      "$ $ \n",
      "$ \n",
      "\n"
     ]
    }
   ],
   "source": [
    "for i in range(0, 6):\n",
    "    for j in range(i,5):\n",
    "        print(\"$\", end= ' ')\n",
    "    print()"
   ]
  },
  {
   "cell_type": "code",
   "execution_count": 61,
   "id": "d3399f79",
   "metadata": {},
   "outputs": [
    {
     "name": "stdout",
     "output_type": "stream",
     "text": [
      "4 5\n",
      "9\n"
     ]
    }
   ],
   "source": [
    "x,y = input().split()\n",
    "x = int(x)\n",
    "y = int(y)\n",
    "c = x\n",
    "print(c)"
   ]
  },
  {
   "cell_type": "code",
   "execution_count": 83,
   "id": "7ac598d1",
   "metadata": {},
   "outputs": [
    {
     "name": "stdout",
     "output_type": "stream",
     "text": [
      "1345\n"
     ]
    }
   ],
   "source": [
    "x = input()\n",
    "c = len(x)\n",
    "\n",
    "for i in range(c):\n",
    "    if(i//10):\n",
    "        print(i)\n",
    "        "
   ]
  },
  {
   "cell_type": "code",
   "execution_count": 74,
   "id": "a4afce83",
   "metadata": {},
   "outputs": [
    {
     "data": {
      "text/plain": [
       "5"
      ]
     },
     "execution_count": 74,
     "metadata": {},
     "output_type": "execute_result"
    }
   ],
   "source": [
    "1345 % 10"
   ]
  },
  {
   "cell_type": "code",
   "execution_count": 82,
   "id": "69423c1a",
   "metadata": {},
   "outputs": [
    {
     "data": {
      "text/plain": [
       "112"
      ]
     },
     "execution_count": 82,
     "metadata": {},
     "output_type": "execute_result"
    }
   ],
   "source": [
    "1123//10"
   ]
  },
  {
   "cell_type": "code",
   "execution_count": 87,
   "id": "1142d3a3",
   "metadata": {},
   "outputs": [
    {
     "name": "stdout",
     "output_type": "stream",
     "text": [
      "142538\n",
      "4\n"
     ]
    }
   ],
   "source": [
    "n = int(input())\n",
    "rem = 0\n",
    "while (n>10):\n",
    "    rem = n%10\n",
    "    n = n//10\n",
    "print(rem)\n"
   ]
  },
  {
   "cell_type": "code",
   "execution_count": 88,
   "id": "dff470d1",
   "metadata": {},
   "outputs": [
    {
     "name": "stdout",
     "output_type": "stream",
     "text": [
      "hello\n"
     ]
    }
   ],
   "source": [
    "print(\"hello\")"
   ]
  },
  {
   "cell_type": "code",
   "execution_count": 123,
   "id": "57dfea5a",
   "metadata": {},
   "outputs": [
    {
     "name": "stdout",
     "output_type": "stream",
     "text": [
      "8 \n",
      "8 8 \n",
      "8 8 8 \n",
      "8 8 8 8 \n",
      "8 8 8 8 8 \n"
     ]
    }
   ],
   "source": [
    "for i in range(1,6):\n",
    "    for j in range(i,0,-1):\n",
    "        print(\"8\", end=\" \")\n",
    "    print()"
   ]
  },
  {
   "cell_type": "code",
   "execution_count": 128,
   "id": "6c6721dd",
   "metadata": {},
   "outputs": [
    {
     "name": "stdout",
     "output_type": "stream",
     "text": [
      "v\n",
      "1         8 7 6 5 4 3 2 1 \n",
      "1 2       6 5 4 3 2 1 \n",
      "1 2 3     4 3 2 1 \n",
      "1 2 3 4   2 1 \n",
      "1 2 3 4 5 2 1 \n"
     ]
    }
   ],
   "source": [
    "ch = input()\n",
    "spaces = 8\n",
    "for i in range(1,6):\n",
    "    for j in range(1, i+1):\n",
    "        print(j, end=\" \")\n",
    "        \n",
    "    for k in range(1, spaces+1):\n",
    "        print(end=\" \")\n",
    "    spaces = spaces-2\n",
    "    \n",
    "    for j in range(k, 0, -1):\n",
    "        print(j,end=' ')\n",
    "    print()"
   ]
  },
  {
   "cell_type": "code",
   "execution_count": 130,
   "id": "8ff43970",
   "metadata": {},
   "outputs": [
    {
     "name": "stdout",
     "output_type": "stream",
     "text": [
      "123456\n",
      "654321\n"
     ]
    }
   ],
   "source": [
    "def gr(num):\n",
    "    res = 0\n",
    "    while num:\n",
    "        rem = num%10\n",
    "        num = num//10\n",
    "        res = res*10+rem\n",
    "    return res\n",
    "\n",
    "\n",
    "print(gr(int(input())))"
   ]
  },
  {
   "cell_type": "code",
   "execution_count": 146,
   "id": "0dc6f7b9",
   "metadata": {},
   "outputs": [
    {
     "name": "stdout",
     "output_type": "stream",
     "text": [
      "6 6 6 6 6 6 \n",
      "5 5 5 5 5 \n",
      "4 4 4 4 \n",
      "3 3 3 \n",
      "2 2 \n",
      "1 \n"
     ]
    }
   ],
   "source": [
    "b=0\n",
    "for i in range(6,0,-1):\n",
    "    b+=1\n",
    "    for j in range(1,i+1):\n",
    "        print(i, end=\" \")\n",
    "    print()"
   ]
  },
  {
   "cell_type": "code",
   "execution_count": 198,
   "id": "bea14d5a",
   "metadata": {},
   "outputs": [
    {
     "name": "stdout",
     "output_type": "stream",
     "text": [
      "5\n",
      "        1 \n",
      "      1 2 \n",
      "    1 2 3 \n",
      "  1 2 3 4 \n",
      "1 2 3 4 5 \n"
     ]
    }
   ],
   "source": [
    "n = int(input())\n",
    "\n",
    "for row in range(n):\n",
    "    for j in range(n-row-1):\n",
    "        print(\" \", end = \" \")\n",
    "    for cloum in range(row+1):\n",
    "        print(cloum+1, end=\" \")\n",
    "    print()"
   ]
  },
  {
   "cell_type": "code",
   "execution_count": 200,
   "id": "05db3b7e",
   "metadata": {},
   "outputs": [
    {
     "name": "stdout",
     "output_type": "stream",
     "text": [
      "5\n",
      "        1 \n",
      "      2 2 \n",
      "    3 3 3 \n",
      "  4 4 4 4 \n",
      "5 5 5 5 5 \n"
     ]
    }
   ],
   "source": [
    "n = int(input())\n",
    "\n",
    "for row in range(n):\n",
    "    for j in range(n-row-1):\n",
    "        print(\" \", end=\" \")\n",
    "    for cloum in range(0,  row+1):\n",
    "        print(row+1, end=\" \")\n",
    "    print()\n"
   ]
  },
  {
   "cell_type": "code",
   "execution_count": 204,
   "id": "7d6be901",
   "metadata": {},
   "outputs": [
    {
     "name": "stdout",
     "output_type": "stream",
     "text": [
      "5\n",
      "        1 \n",
      "      1 2 \n",
      "    1 2 3 \n",
      "  1 2 3 4 \n",
      "1 2 3 4 5 \n"
     ]
    }
   ],
   "source": [
    "n = int(input())\n",
    "\n",
    "for row in range(n):\n",
    "    for j in range(n-row-1):\n",
    "        print(\" \", end =\" \")\n",
    "    for cloum in range(0,  row+1):\n",
    "        print(cloum+1, end=\" \")\n",
    "    print()\n"
   ]
  },
  {
   "cell_type": "code",
   "execution_count": 215,
   "id": "484ac159",
   "metadata": {},
   "outputs": [
    {
     "name": "stdout",
     "output_type": "stream",
     "text": [
      "102345\n",
      "15\n"
     ]
    }
   ],
   "source": [
    "def res(num):\n",
    "    rem = 0\n",
    "    res = 0\n",
    "    while(num>0):\n",
    "        rem = num%10\n",
    "        num = num//10\n",
    "        res = res+rem\n",
    "    print(res)\n",
    "res(int(input()))"
   ]
  },
  {
   "cell_type": "code",
   "execution_count": 45,
   "id": "944eaafb",
   "metadata": {},
   "outputs": [
    {
     "name": "stdout",
     "output_type": "stream",
     "text": [
      "4\n",
      "15\n",
      "4\n",
      "240\n",
      "Speed Increasing\n",
      "Car moves back and forth\n",
      "$$$$$$$$$$$$$$$\n",
      "Hyundai\n",
      "5\n"
     ]
    }
   ],
   "source": [
    "#inheritacne\n",
    "\n",
    "class car:\n",
    "    def __init__(self, gears, seats, maxspeed):\n",
    "        self.gears = gears\n",
    "        self.seats = seats\n",
    "        self.maxspeed = maxspeed\n",
    "        \n",
    "    def speedup(self):\n",
    "        print(\"Speed Increasing\")\n",
    "    def apply_break(self):\n",
    "        print(\"Spedd decresaing\")\n",
    "    def movement(self):\n",
    "        print(\"Car moves back and forth\")\n",
    "\n",
    "class Hyundai:\n",
    "    def __init__(self):\n",
    "        self.brandname = \"Hyundai\"\n",
    "    \n",
    "class Harrier(car):\n",
    "\n",
    "    def __init__(self, mileage, gears, seats, maxspeed):\n",
    "        self.mileage =  mileage\n",
    "        super().__init__(gears, seats, maxspeed)\n",
    "    def race_mode(self):\n",
    "\n",
    "        print(\"Race mode is on\")\n",
    "\n",
    "class Verna(car):\n",
    "    def __init__(self, gears, seats, maxspeed):\n",
    "        car.__init__(self, gears, seats, maxspeed)\n",
    "        Hyundai.__init__(self)\n",
    "    pass\n",
    "\n",
    "class Pal_c(car):\n",
    "        pass#def movement(self):\n",
    "         #print(\"Car moves back, forth, up and down\")\n",
    "\n",
    "c1=car(4,13,129)\n",
    "print(c1.gears)\n",
    "v1 = Verna(5,3,190)\n",
    "h1 = Harrier(15,5,4,240)\n",
    "print(h1.mileage)\n",
    "print(h1.seats)\n",
    "print(h1.maxspeed)\n",
    "h1.speedup()\n",
    "\n",
    "p1 = Pal_c(20,5,200)\n",
    "\n",
    "p1.movement()\n",
    "\n",
    "print(\"$$$$$$$$$$$$$$$\")\n",
    "print(v1.brandname)\n",
    "print(v1.gears)"
   ]
  },
  {
   "cell_type": "code",
   "execution_count": 25,
   "id": "09a0f8ec",
   "metadata": {},
   "outputs": [
    {
     "name": "stdout",
     "output_type": "stream",
     "text": [
      "Help on class list in module builtins:\n",
      "\n",
      "class list(object)\n",
      " |  list(iterable=(), /)\n",
      " |  \n",
      " |  Built-in mutable sequence.\n",
      " |  \n",
      " |  If no argument is given, the constructor creates a new empty list.\n",
      " |  The argument must be an iterable if specified.\n",
      " |  \n",
      " |  Methods defined here:\n",
      " |  \n",
      " |  __add__(self, value, /)\n",
      " |      Return self+value.\n",
      " |  \n",
      " |  __contains__(self, key, /)\n",
      " |      Return key in self.\n",
      " |  \n",
      " |  __delitem__(self, key, /)\n",
      " |      Delete self[key].\n",
      " |  \n",
      " |  __eq__(self, value, /)\n",
      " |      Return self==value.\n",
      " |  \n",
      " |  __ge__(self, value, /)\n",
      " |      Return self>=value.\n",
      " |  \n",
      " |  __getattribute__(self, name, /)\n",
      " |      Return getattr(self, name).\n",
      " |  \n",
      " |  __getitem__(...)\n",
      " |      x.__getitem__(y) <==> x[y]\n",
      " |  \n",
      " |  __gt__(self, value, /)\n",
      " |      Return self>value.\n",
      " |  \n",
      " |  __iadd__(self, value, /)\n",
      " |      Implement self+=value.\n",
      " |  \n",
      " |  __imul__(self, value, /)\n",
      " |      Implement self*=value.\n",
      " |  \n",
      " |  __init__(self, /, *args, **kwargs)\n",
      " |      Initialize self.  See help(type(self)) for accurate signature.\n",
      " |  \n",
      " |  __iter__(self, /)\n",
      " |      Implement iter(self).\n",
      " |  \n",
      " |  __le__(self, value, /)\n",
      " |      Return self<=value.\n",
      " |  \n",
      " |  __len__(self, /)\n",
      " |      Return len(self).\n",
      " |  \n",
      " |  __lt__(self, value, /)\n",
      " |      Return self<value.\n",
      " |  \n",
      " |  __mul__(self, value, /)\n",
      " |      Return self*value.\n",
      " |  \n",
      " |  __ne__(self, value, /)\n",
      " |      Return self!=value.\n",
      " |  \n",
      " |  __repr__(self, /)\n",
      " |      Return repr(self).\n",
      " |  \n",
      " |  __reversed__(self, /)\n",
      " |      Return a reverse iterator over the list.\n",
      " |  \n",
      " |  __rmul__(self, value, /)\n",
      " |      Return value*self.\n",
      " |  \n",
      " |  __setitem__(self, key, value, /)\n",
      " |      Set self[key] to value.\n",
      " |  \n",
      " |  __sizeof__(self, /)\n",
      " |      Return the size of the list in memory, in bytes.\n",
      " |  \n",
      " |  append(self, object, /)\n",
      " |      Append object to the end of the list.\n",
      " |  \n",
      " |  clear(self, /)\n",
      " |      Remove all items from list.\n",
      " |  \n",
      " |  copy(self, /)\n",
      " |      Return a shallow copy of the list.\n",
      " |  \n",
      " |  count(self, value, /)\n",
      " |      Return number of occurrences of value.\n",
      " |  \n",
      " |  extend(self, iterable, /)\n",
      " |      Extend list by appending elements from the iterable.\n",
      " |  \n",
      " |  index(self, value, start=0, stop=9223372036854775807, /)\n",
      " |      Return first index of value.\n",
      " |      \n",
      " |      Raises ValueError if the value is not present.\n",
      " |  \n",
      " |  insert(self, index, object, /)\n",
      " |      Insert object before index.\n",
      " |  \n",
      " |  pop(self, index=-1, /)\n",
      " |      Remove and return item at index (default last).\n",
      " |      \n",
      " |      Raises IndexError if list is empty or index is out of range.\n",
      " |  \n",
      " |  remove(self, value, /)\n",
      " |      Remove first occurrence of value.\n",
      " |      \n",
      " |      Raises ValueError if the value is not present.\n",
      " |  \n",
      " |  reverse(self, /)\n",
      " |      Reverse *IN PLACE*.\n",
      " |  \n",
      " |  sort(self, /, *, key=None, reverse=False)\n",
      " |      Sort the list in ascending order and return None.\n",
      " |      \n",
      " |      The sort is in-place (i.e. the list itself is modified) and stable (i.e. the\n",
      " |      order of two equal elements is maintained).\n",
      " |      \n",
      " |      If a key function is given, apply it once to each list item and sort them,\n",
      " |      ascending or descending, according to their function values.\n",
      " |      \n",
      " |      The reverse flag can be set to sort in descending order.\n",
      " |  \n",
      " |  ----------------------------------------------------------------------\n",
      " |  Class methods defined here:\n",
      " |  \n",
      " |  __class_getitem__(...) from builtins.type\n",
      " |      See PEP 585\n",
      " |  \n",
      " |  ----------------------------------------------------------------------\n",
      " |  Static methods defined here:\n",
      " |  \n",
      " |  __new__(*args, **kwargs) from builtins.type\n",
      " |      Create and return a new object.  See help(type) for accurate signature.\n",
      " |  \n",
      " |  ----------------------------------------------------------------------\n",
      " |  Data and other attributes defined here:\n",
      " |  \n",
      " |  __hash__ = None\n",
      "\n"
     ]
    }
   ],
   "source": [
    "help(list)"
   ]
  },
  {
   "cell_type": "code",
   "execution_count": 51,
   "id": "8058adf4",
   "metadata": {},
   "outputs": [
    {
     "name": "stdout",
     "output_type": "stream",
     "text": [
      "[<class '__main__.R'>, <class '__main__.P'>, <class '__main__.x'>, <class '__main__.Q'>, <class '__main__.y'>, <class '__main__.z'>, <class 'object'>]\n"
     ]
    }
   ],
   "source": [
    "class x:\n",
    "    pass\n",
    "class y:\n",
    "    pass\n",
    "class z:\n",
    "    pass\n",
    "class P(x,y):\n",
    "    pass\n",
    "class Q(y,z):\n",
    "    pass\n",
    "class R(P,Q,z):\n",
    "    pass\n",
    "\n",
    "print(R.mro())"
   ]
  },
  {
   "cell_type": "code",
   "execution_count": 62,
   "id": "70f750d2",
   "metadata": {},
   "outputs": [
    {
     "name": "stdout",
     "output_type": "stream",
     "text": [
      "300\n",
      "56.0\n"
     ]
    }
   ],
   "source": [
    "#Private function\n",
    "\n",
    "class Accnt:\n",
    "    _amount = 0\n",
    "    def dep(self, add):\n",
    "        self._amount += add\n",
    "        \n",
    "    def debit(self, sub):\n",
    "        self._amount -=sub\n",
    "    def prntamnt(self):\n",
    "        print(self._amount)\n",
    "        \n",
    "class user(Accnt):\n",
    "    def cal(self):\n",
    "        tax = self._amount *0.2\n",
    "        print(tax)\n",
    "    \n",
    "\n",
    "u1 =user()\n",
    "u1.dep(300)\n",
    "u1.prntamnt()\n",
    "u1.debit(20)\n",
    "u1.cal()\n"
   ]
  },
  {
   "cell_type": "code",
   "execution_count": 66,
   "id": "5dcf03b5",
   "metadata": {},
   "outputs": [
    {
     "name": "stdout",
     "output_type": "stream",
     "text": [
      "ringing\n",
      "Caller data\n",
      "Calling\n"
     ]
    }
   ],
   "source": [
    "#opreator overloading\n",
    "class jiocaller():\n",
    "    def call(self):\n",
    "        print(\"Calling\")\n",
    "\n",
    "class truecaller():\n",
    "    def call(self):\n",
    "        print(\"ringing\")\n",
    "        print(\"Caller data\")\n",
    "class phone:\n",
    "    def callfuns(self, phoneapp):\n",
    "        phoneapp.call()\n",
    "\n",
    "phoneapp = truecaller()\n",
    "p1 = phone()\n",
    "p1.callfuns(phoneapp)\n",
    "\n",
    "phoneapp = jiocaller()\n",
    "p1 = phone()\n",
    "p1.callfuns(phoneapp)"
   ]
  },
  {
   "cell_type": "code",
   "execution_count": null,
   "id": "1d894918",
   "metadata": {},
   "outputs": [],
   "source": [
    "\n",
    "\n"
   ]
  }
 ],
 "metadata": {
  "kernelspec": {
   "display_name": "Python 3 (ipykernel)",
   "language": "python",
   "name": "python3"
  },
  "language_info": {
   "codemirror_mode": {
    "name": "ipython",
    "version": 3
   },
   "file_extension": ".py",
   "mimetype": "text/x-python",
   "name": "python",
   "nbconvert_exporter": "python",
   "pygments_lexer": "ipython3",
   "version": "3.9.6"
  }
 },
 "nbformat": 4,
 "nbformat_minor": 5
}

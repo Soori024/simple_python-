{
 "cells": [
  {
   "cell_type": "code",
   "execution_count": 1,
   "id": "35ec908a",
   "metadata": {},
   "outputs": [
    {
     "name": "stdout",
     "output_type": "stream",
     "text": [
      "1234567\n",
      "1234567 "
     ]
    }
   ],
   "source": [
    "# input method for array\n",
    "#1)\n",
    "arr = [] # creating the empty list\n",
    "\n",
    "for ele in input().split():#starting the array input in a loop\n",
    "    arr.append(int(ele))#appending the value into array\n",
    "    \n",
    "for i in range(len(arr)):\n",
    "    print(arr[i], end=\" \")#printing the array"
   ]
  },
  {
   "cell_type": "code",
   "execution_count": 23,
   "id": "87ea53b3",
   "metadata": {},
   "outputs": [
    {
     "name": "stdout",
     "output_type": "stream",
     "text": [
      "1 2 3 4 5 6 7\n",
      "1 2 3 4 5 6 7 "
     ]
    }
   ],
   "source": [
    "#2)\n",
    "arr = list(map(int, input().split()))#appending the value directly  into array\n",
    "for i in range(len(arr)):\n",
    "    print(arr[i], end=\" \")#printing the array"
   ]
  },
  {
   "cell_type": "code",
   "execution_count": null,
   "id": "158b1908",
   "metadata": {},
   "outputs": [],
   "source": [
    "# Min and Max program\n",
    "\n",
    "t = int(input()) # enteing the test cases\n",
    "arr =[]# calling array\n",
    "for i in range(t):\n",
    "    arr = list(map(int,input().split()))#converting string element into integer.\n",
    "    min = 10000001\n",
    "    max = -1\n",
    "    for j in range(len(arr)):\n",
    "        if(arr[j]<min):#min condition\n",
    "            min=arr[j]\n",
    "        if(arr[j]>max):#max codition\n",
    "            max=arr[j]\n",
    "            \n",
    "    print(arr)\n",
    "    print(\"Min Value\",min)\n",
    "    print(\"Max Value\",max)"
   ]
  },
  {
   "cell_type": "code",
   "execution_count": 22,
   "id": "50d77032",
   "metadata": {
    "scrolled": true
   },
   "outputs": [
    {
     "name": "stdout",
     "output_type": "stream",
     "text": [
      "2\n",
      "5\n",
      "1 2 3 4 5\n",
      "1 2 3 4 5 \n",
      "7\n",
      "5 1 4 6 8 1 4\n",
      "5 1 4 6 8 1 4 \n"
     ]
    }
   ],
   "source": [
    "# printing 2 different array elements\n",
    "t = int(input())#test case value\n",
    "\n",
    "for i in range(t):\n",
    "    n = int(input())#printing size of array\n",
    "    arr = list(map(int, input().split()))#appending the value into array\n",
    "\n",
    "    for j in range(n):\n",
    "        print(arr[j], end=\" \")\n",
    "    print()\n"
   ]
  },
  {
   "cell_type": "code",
   "execution_count": 12,
   "id": "204141b1",
   "metadata": {
    "scrolled": false
   },
   "outputs": [
    {
     "name": "stdout",
     "output_type": "stream",
     "text": [
      "1\n",
      "4\n",
      "1\n",
      "1 3 5 7\n",
      "7 1 3 5 \n"
     ]
    }
   ],
   "source": [
    "#Array rotation brute force method\n",
    "\n",
    "def rightRotate(arr,n):#function rightRotate\n",
    "    temp = arr[n-1]#assing the last element to temp\n",
    "    for i in range(n-1, 0, -1):#start looping in reverse oreder of array to move element\n",
    "        arr[i] = arr[i-1] #moving the i-1 element as i th element\n",
    "    arr[0] = temp #temp element to arr[0] element \n",
    "def printarr(arr,n):\n",
    "    for i in range(n):\n",
    "        print(arr[i], end=\" \")#printing the array element\n",
    "    print()\n",
    "\n",
    "def main():\n",
    "    t = int(input())# taking the test cases input\n",
    "    while(t>0):\n",
    "        n,k = map(int,input().split())#taking n value for size of array and taking k value for repate of array\n",
    "        arr = list(map(int, input().split()))#taking array element\n",
    "        \n",
    "        for j in range(k):#start looping\n",
    "                rightRotate(arr,n)#caliing Right rotate function\n",
    "        printarr(arr, n)#calling print the rotated array\n",
    "        t=t-1\n",
    "\n",
    "        \n",
    "        \n",
    "if __name__ == '__main__':\n",
    "    main()  \n"
   ]
  },
  {
   "cell_type": "code",
   "execution_count": 18,
   "id": "3fb97510",
   "metadata": {},
   "outputs": [
    {
     "name": "stdout",
     "output_type": "stream",
     "text": [
      "5\n",
      "5\n",
      "3\n",
      "1 2 3 4 5\n",
      "3 4 5 1 2 \n",
      "5\n",
      "4\n",
      "4 3 1 5 2\n",
      "3 1 5 2 4 \n",
      "5\n",
      "1\n",
      "5 4 2 1 2\n",
      "2 5 4 2 1 \n",
      "5\n",
      "3\n",
      "5 4 3 2 1\n",
      "3 2 1 5 4 \n",
      "5\n",
      "4\n",
      "6 5 4 3 2 \n",
      "5 4 3 2 6 \n"
     ]
    }
   ],
   "source": [
    "#Array rotation Reversal algorithm right rotation\n",
    "\n",
    "def reverseRightAlog(arr,i,j):#function rightRotate\n",
    "       while(i<j):\n",
    "            temp = arr[i]#assing the last element to temp\n",
    "            arr[i] = arr[j] \n",
    "            arr[j] = temp \n",
    "            i+=1\n",
    "            j-=1\n",
    "def printarr(arr,n):\n",
    "    for i in range(n):\n",
    "        print(arr[i], end=\" \")#printing the array element\n",
    "    print()\n",
    "\n",
    "def main():\n",
    "    t = int(input())# taking the test cases input\n",
    "    while(t>0):\n",
    "        n = int(input())#taking n value for size of array\n",
    "        k = int(input())#taking k value for repate of array\n",
    "        arr = list(map(int, input().split()))#taking array element\n",
    "        \n",
    "        reverseRightAlog(arr, n-k,n-1)# rightrotarion start in n-k and n-1 th position\n",
    "        \n",
    "        reverseRightAlog(arr, 0, n-k-1)# rightrotarion start in n-k-1 th position\n",
    "        \n",
    "        reverseRightAlog(arr, 0,n-1)# rightrotarion start in n-1 th position\n",
    "        \n",
    "        printarr(arr, n)#calling print the rotated array\n",
    "        t=t-1\n",
    "\n",
    "        \n",
    "        \n",
    "if __name__ == '__main__':\n",
    "    main()  \n"
   ]
  },
  {
   "cell_type": "code",
   "execution_count": 19,
   "id": "abdcf437",
   "metadata": {},
   "outputs": [
    {
     "name": "stdout",
     "output_type": "stream",
     "text": [
      "1\n",
      "5\n",
      "2\n",
      "1 2 3 4 5\n",
      "3 4 5 1 2 \n"
     ]
    }
   ],
   "source": [
    "#Array rotation Reversal algorithm left rotation\n",
    "\n",
    "def reverseRightAlogleft(arr,i,j):#function rightRotate\n",
    "       while(i<j):\n",
    "            temp = arr[i]#assing the last element to temp\n",
    "            arr[i] = arr[j] \n",
    "            arr[j] = temp \n",
    "            i+=1\n",
    "            j-=1\n",
    "def printarr(arr,n):\n",
    "    for i in range(n):\n",
    "        print(arr[i], end=\" \")#printing the array element\n",
    "    print()\n",
    "\n",
    "def main():\n",
    "    t = int(input())# taking the test cases input\n",
    "    while(t>0):\n",
    "        n = int(input())#taking n value for size of array\n",
    "        k = int(input())#taking k value for repate of array\n",
    "        arr = list(map(int, input().split()))#taking array element\n",
    "        \n",
    "        reverseRightAlogleft(arr, 0, k-1)# leftrotarion start in k-1 th position\n",
    "        reverseRightAlogleft(arr, k, n-1)# leftrotarion start in k, and n-1 th position\n",
    "        reverseRightAlogleft(arr, 0,n-1)# leftrotarion start in n-1 th position\n",
    "        printarr(arr, n)#calling print the rotated array\n",
    "        t=t-1\n",
    "\n",
    "        \n",
    "        \n",
    "if __name__ == '__main__':\n",
    "    main()  \n"
   ]
  },
  {
   "cell_type": "code",
   "execution_count": 28,
   "id": "40f8a57b",
   "metadata": {
    "scrolled": false
   },
   "outputs": [
    {
     "name": "stdout",
     "output_type": "stream",
     "text": [
      "3\n",
      "3\n",
      "1 2 3\n",
      "4 5 6\n",
      "7 8 9\n",
      "9 8 7\n",
      "6 5 4 \n",
      "3 2 1\n",
      "10 10 10 \n",
      "10 10 10 \n",
      "10 10 10 \n"
     ]
    }
   ],
   "source": [
    "#Matrix addition\n",
    "\n",
    "n = int(input())\n",
    "m = int(input())\n",
    "\n",
    "mat1 =[]\n",
    "for i in range(n):\n",
    "    mat1.append(list(map(int, input().split())))\n",
    "\n",
    "mat2 =[]\n",
    "for i in range(n):\n",
    "    mat2.append(list(map(int, input().split())))\n",
    "\n",
    "mat3 =[]\n",
    "for i in range(n):\n",
    "    mat3.append([0]*m)\n",
    "\n",
    "for i in range(n):\n",
    "    for j in range(m):\n",
    "        mat3[i][j] =  mat1[i][j]+mat2[i][j]                \n",
    "\n",
    "for i in range(n):\n",
    "    for j in range(m):\n",
    "          print(mat3[i][j], end = \" \")\n",
    "    print()"
   ]
  },
  {
   "cell_type": "code",
   "execution_count": 84,
   "id": "a61a16d9",
   "metadata": {},
   "outputs": [
    {
     "name": "stdout",
     "output_type": "stream",
     "text": [
      "2 2\n",
      "1 2\n",
      "3 4\n",
      "5 6\n",
      "7 8\n",
      "Matrix addition values are:\n",
      "6 8 \n",
      "10 12 \n",
      "Matrix multiplication values are:\n",
      "76 88 \n",
      "172 200 \n"
     ]
    }
   ],
   "source": [
    "#Matrix addition and multiplication\n",
    "\n",
    "n,m = map(int, input().split())\n",
    "\n",
    "mat1 =[]\n",
    "for i in range(n):\n",
    "    mat1.append(list(map(int, input().split()))) # appending the matrix1 vlaues\n",
    "\n",
    "mat2 =[]\n",
    "for i in range(n):\n",
    "    mat2.append(list(map(int, input().split())))# appending the matrix2 vlaues\n",
    "\n",
    "mat3 =[]\n",
    "for i in range(n):\n",
    "    mat3.append([0]*m)# appending the matrix3 postion with coloum vlaues\n",
    "    \n",
    "for i in range(n):\n",
    "    for j in range(m):\n",
    "        mat3[i][j] =  mat1[i][j]+mat2[i][j] #matrix Addition logic            \n",
    "\n",
    "print(\"Matrix addition values are:\")\n",
    "for i in range(n):\n",
    "    for j in range(m):\n",
    "          print(mat3[i][j], end = \" \")#printing the matrix\n",
    "    print()\n",
    "\n",
    "for i in range(n):\n",
    "    for j in range(m):\n",
    "        for k in range(m):\n",
    "            mat4[i][j] =  mat4[i][j] + (mat1[i][k] * mat2[k][j])#matrix multiplication                \n",
    "\n",
    "print(\"Matrix multiplication values are:\")\n",
    "for i in range(n):\n",
    "    for j in range(m):\n",
    "          print(mat4[i][j], end = \" \")#printing the matrix\n",
    "    print()"
   ]
  },
  {
   "cell_type": "code",
   "execution_count": 49,
   "id": "56d4ef3c",
   "metadata": {},
   "outputs": [
    {
     "name": "stdout",
     "output_type": "stream",
     "text": [
      "3\n",
      "17 18 19\n",
      "3\n"
     ]
    }
   ],
   "source": [
    "''''Some students who took admission in college will send friend requests to other students. \n",
    "The list of their ages is given and \n",
    "ages[i] is the age of the ith student. \n",
    "\n",
    "Student A  will not send a friend request to student B (A!=B)\n",
    " if any of the following conditions are true:\n",
    "1.age[B]<=0.5∗age[A]+7\n",
    "\n",
    "2.age[B]>100 && age[A]<100\n",
    "\n",
    "3.age[B]>age[A]\n",
    "\n",
    "Otherwise, \n",
    "A  will send a friend request to B\n",
    "\n",
    "Note that if \n",
    "A requests B, B does not necessarily request A. Also, the student will not friend request themselves.\n",
    "Find how many total friend requests are made?'''\n",
    "\n",
    "n = int(input())\n",
    "arr = list(map(int,input().split()))\n",
    "\n",
    "count = 0\n",
    "\n",
    "for i in range(n):\n",
    "    for k in range(n):\n",
    "        if(i!=k):\n",
    "            if((arr[k]<=0.5*arr[i]+7) or (arr[k]>100 and arr[i]<100) or (arr[k]>arr[i])):#applying the each conditions\n",
    "                continue\n",
    "            else:\n",
    "                count+=1\n",
    "print(count)\n",
    "                \n",
    "    "
   ]
  },
  {
   "cell_type": "code",
   "execution_count": 61,
   "id": "dff4ffa4",
   "metadata": {},
   "outputs": [
    {
     "name": "stdout",
     "output_type": "stream",
     "text": [
      "3\n",
      "17 18 19\n",
      "3\n"
     ]
    }
   ],
   "source": [
    "''''Some students who took admission in college will send friend requests to other students. \n",
    "The list of their ages is given and \n",
    "ages[i] is the age of the ith student. \n",
    "\n",
    "Student A  will not send a friend request to student B (A!=B)\n",
    " if any of the following conditions are true:\n",
    "1.age[B]<=0.5∗age[A]+7\n",
    "\n",
    "2.age[B]>100 && age[A]<100\n",
    "\n",
    "3.age[B]>age[A]\n",
    "\n",
    "Otherwise, \n",
    "A  will send a friend request to B\n",
    "\n",
    "Note that if \n",
    "A requests B, B does not necessarily request A. Also, the student will not friend request themselves.\n",
    "Find how many total friend requests are made?'''\n",
    "n = int(input())\n",
    "\n",
    "arr = list(map(int, input().split()))\n",
    "freq = [0]*121\n",
    "\n",
    "for i in range(n):\n",
    "    freq[arr[i]]+=1\n",
    "ans = 0     \n",
    "for i in range(1,121):\n",
    "    for j in range(1,121):\n",
    "        if(i<=j*0.5+7):#applying the each condition\n",
    "            continue\n",
    "        if(i>100 and j<100):#applying the each condition\n",
    "            continue\n",
    "        if(i>j):\n",
    "            continue\n",
    "        ans+=freq[i]*freq[j]#applying the each conditions\n",
    "        if(i==j):\n",
    "            ans-=freq[i]\n",
    "print(ans)"
   ]
  },
  {
   "cell_type": "code",
   "execution_count": 87,
   "id": "ff00167d",
   "metadata": {},
   "outputs": [
    {
     "name": "stdout",
     "output_type": "stream",
     "text": [
      "6\n",
      "1 2 3 4 5 6\n",
      " Unique element count is: 6\n"
     ]
    }
   ],
   "source": [
    "#unique color shirt in given color of shirt\n",
    "\n",
    "def unique(arr):\n",
    "    resDict = {}\n",
    "    \n",
    "    for ele in arr:\n",
    "        if ele in resDict:\n",
    "            resDict[ele] +=1\n",
    "        else:\n",
    "            resDict[ele] = 1\n",
    "    print(\" Unique element count is:\",len([ele for ele in resDict if resDict[ele]==1]))#all the given comment code are bumpedup in single line of code\n",
    "    '''list compersion\n",
    "    arrtemp = []\n",
    "    for ele in resDict:\n",
    "        if resDict[ele]==1:\n",
    "            arrtemp.append(ele)\n",
    "    '''\n",
    "\n",
    "count = input()\n",
    "\n",
    "arr = [int(ele) for ele in input().split(\" \")]#appending the elements into the array in single line of code\n",
    " \n",
    "unique(arr)\n"
   ]
  },
  {
   "cell_type": "code",
   "execution_count": 65,
   "id": "a371f8d1",
   "metadata": {},
   "outputs": [
    {
     "name": "stdout",
     "output_type": "stream",
     "text": [
      "1\n",
      "5 3\n",
      "4 3 1 2 5\n",
      "8\n"
     ]
    }
   ],
   "source": [
    "#sliding window - Maximum sum of k consecutive element in the array\n",
    "def main():\n",
    "    t = int(input())\n",
    "    while(t!=0):\n",
    "        n,k = map(int, input().split())\n",
    "        arr = list(map(int, input().split()))\n",
    "        max = -1\n",
    "\n",
    "        for i in range(0,n-k+1):\n",
    "            sum = 0\n",
    "            for j in range(i,i+k):\n",
    "                sum+=arr[j]\n",
    "            if(sum>max):\n",
    "                max = sum\n",
    "        print(max)\n",
    "        t=t-1\n",
    "if __name__ == \"__main__\":\n",
    "    main()"
   ]
  },
  {
   "cell_type": "code",
   "execution_count": 68,
   "id": "e86724ee",
   "metadata": {},
   "outputs": [
    {
     "name": "stdout",
     "output_type": "stream",
     "text": [
      "2\n",
      "5 3\n",
      "4 1 3 5 8\n",
      "16\n",
      "5 4\n",
      "4 5 3 2 1\n",
      "14\n"
     ]
    }
   ],
   "source": [
    "#sliding window - Maximum sum of k consecutive element in the array\n",
    "def main():\n",
    "    t = int(input())\n",
    "    while(t!=0):\n",
    "        n,k = map(int, input().split())\n",
    "        arr = list(map(int, input().split()))\n",
    "        sum = 0\n",
    "        for i in range(0,k):\n",
    "            sum+=arr[i]#suming the value from kth value\n",
    "        max =sum\n",
    "        for j in range(k,n):\n",
    "            sum = sum - arr[j-k]+arr[j]#here logic to sum value into k consecutive elements\n",
    "            if(sum>max):\n",
    "                max = sum\n",
    "        print(max)\n",
    "        t=t-1\n",
    "if __name__ == \"__main__\":\n",
    "    main()"
   ]
  },
  {
   "cell_type": "code",
   "execution_count": 93,
   "id": "7255dbda",
   "metadata": {},
   "outputs": [
    {
     "name": "stdout",
     "output_type": "stream",
     "text": [
      "1\n",
      "5 10\n",
      "1 4 5 7 9\n",
      "The array index is: 0 4\n"
     ]
    }
   ],
   "source": [
    "# Gaming array chose pair of element and print the sum value giving\n",
    "def main():\n",
    "    t = int(input())\n",
    "    while(t!=0):\n",
    "        n,k = map(int, input().split())\n",
    "        arr = list(map(int, input().split()))\n",
    "        mini = -1\n",
    "        maxj = -1\n",
    "        flag = 0\n",
    "        for i in range(n-1):\n",
    "            for j in range(i+1,n):\n",
    "                if(arr[i]+arr[j]==k):\n",
    "                    flag = 1\n",
    "                    if(j>maxj):\n",
    "                        mini = i\n",
    "                        maxj = j\n",
    "                    elif(maxj==j and min>i):\n",
    "                        mini = i\n",
    "                        maxj = j\n",
    "        if(flag == 0):\n",
    "            print(\"No answer\")\n",
    "        else:\n",
    "            print(\"The array index is:\",mini,maxj)\n",
    "        t=t-1\n",
    "if __name__ == \"__main__\":\n",
    "    main()"
   ]
  },
  {
   "cell_type": "code",
   "execution_count": 95,
   "id": "3a998d02",
   "metadata": {},
   "outputs": [
    {
     "name": "stdout",
     "output_type": "stream",
     "text": [
      "1\n",
      "5 19\n",
      "1 12 6 7 13\n",
      "The array index is 1 3\n"
     ]
    }
   ],
   "source": [
    "# Gaming array chose pair of element and print the sum value giving\n",
    "# it will only work on sorted array\n",
    "\n",
    "def main():\n",
    "    t = int(input())\n",
    "    while(t!=0):\n",
    "        n,k = map(int, input().split())\n",
    "        arr = list(map(int, input().split()))\n",
    "        i = 0\n",
    "        j = n-1\n",
    "        flag = 0\n",
    "        while(i<j):\n",
    "            sum = arr[i]+arr[j]\n",
    "            if(sum==k):\n",
    "                flag = 1\n",
    "                print(\"The array index is\",i,j)\n",
    "                break\n",
    "            elif(sum>k):\n",
    "                j-=1\n",
    "            else:\n",
    "                i+=1\n",
    "        if(flag == 0):\n",
    "            print(\"No answer\")\n",
    "        t=t-1\n",
    "if __name__ == \"__main__\":\n",
    "    main()"
   ]
  },
  {
   "cell_type": "code",
   "execution_count": null,
   "id": "ee2d04f0",
   "metadata": {},
   "outputs": [],
   "source": []
  }
 ],
 "metadata": {
  "kernelspec": {
   "display_name": "Python 3 (ipykernel)",
   "language": "python",
   "name": "python3"
  },
  "language_info": {
   "codemirror_mode": {
    "name": "ipython",
    "version": 3
   },
   "file_extension": ".py",
   "mimetype": "text/x-python",
   "name": "python",
   "nbconvert_exporter": "python",
   "pygments_lexer": "ipython3",
   "version": "3.9.6"
  }
 },
 "nbformat": 4,
 "nbformat_minor": 5
}
